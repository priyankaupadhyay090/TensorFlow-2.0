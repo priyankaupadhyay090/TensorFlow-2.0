{
  "nbformat": 4,
  "nbformat_minor": 0,
  "metadata": {
    "colab": {
      "name": "Hidden_Markov_Model.ipynb",
      "provenance": [],
      "collapsed_sections": []
    },
    "kernelspec": {
      "name": "python3",
      "display_name": "Python 3"
    },
    "language_info": {
      "name": "python"
    }
  },
  "cells": [
    {
      "cell_type": "markdown",
      "metadata": {
        "id": "zFXv5QkTB6ks"
      },
      "source": [
        "##Hidden Markov Models (HMM)\n",
        "\n",
        "\"The Hidden Markov Model is a finite set of states, each of which is associated with a (generally multidimensional) probability distribution []. Transitions among the states are governed by a set of probabilities called transition probabilities.\" (http://jedlik.phy.bme.hu/~gerjanos/HMM/node4.html)\n",
        "\n",
        "A hidden markov model works with probabilities to predict future events or states. \n"
      ]
    },
    {
      "cell_type": "markdown",
      "metadata": {
        "id": "LzfQZpEwCXNY"
      },
      "source": [
        "## Weather foracast Dataset \n",
        " \n",
        "For regressionand Clasification, we use multiple features but for HMM we are only interested in probability distributions that have to do with states. \n",
        "\n",
        "We can find these probabilities from large datasets or may already have these values.\n",
        "\n",
        "**States:** In each markov model we have a finite set of states. These states could be something like \"warm\" and \"cold\" or \"high\" and \"low\" or even \"red\", \"green\" and \"blue\". These states are \"hidden\" within the model, which we do not direcly observe them.\n",
        "\n",
        "**Observations:** Each state has a particular outcome or observation associated with it based on a probability distribution. An example of this is the following: *On a hot day 'Priyanka' has a 80% chance of being happy and a 20% chance of being sad.*\n",
        "\n",
        "**Transitions:** Each state will have a probability defining the likelyhood of transitioning to a different state. An example is the following: *a cold day has a 30% chance of being followed by a hot day and a 70% chance of being follwed by another cold day.*\n",
        "\n",
        "To create a hidden markov model we need.\n",
        "- States\n",
        "- Observation Distribution\n",
        "- Transition Distribution\n",
        "\n",
        "For our purpose we will assume we already have this information available as we attempt to predict the weather on a given day."
      ]
    },
    {
      "cell_type": "markdown",
      "metadata": {
        "id": "j4eJr-iRDnAe"
      },
      "source": [
        "## Import and Setup"
      ]
    },
    {
      "cell_type": "code",
      "metadata": {
        "id": "2wwvkB4_rr_a"
      },
      "source": [
        "%tensorflow_version 2.x"
      ],
      "execution_count": 1,
      "outputs": []
    },
    {
      "cell_type": "code",
      "metadata": {
        "id": "OXe8BxafGBoG"
      },
      "source": [
        "#!pip install tensorflow_probability==0.8.0rc0 --user --upgrade"
      ],
      "execution_count": null,
      "outputs": []
    },
    {
      "cell_type": "code",
      "metadata": {
        "id": "FHIbsw-WDmDa"
      },
      "source": [
        "import tensorflow as tf\n",
        "import tensorflow_probability as tfp"
      ],
      "execution_count": 3,
      "outputs": []
    },
    {
      "cell_type": "markdown",
      "metadata": {
        "id": "6G_3Y4FFGOFE"
      },
      "source": [
        "## Weather Model\n",
        " \n",
        "Model a simple weather system and try to predict the temperature on each day given the following information.\n",
        "1. Cold days are encoded by a 0 and hot days are encoded by a 1.\n",
        "2. The first day in our sequence has an 30% chance of being cold.\n",
        "3. A cold day has a 50% chance of being followed by a hot day.\n",
        "4. A hot day has a 40% chance of being followed by a cold day.\n",
        "5. On each day the temperature is\n",
        " normally distributed with Mean and standard deviation (SD.  on a \n",
        "- on Cold day: Mean and SD are 0 and 5\n",
        "- on Hot day: Mean and SD are 15 and 10\n",
        "\n",
        " **standard deviation** can be put simply as the range of expected values. \n",
        "\n",
        "On a hot day the average temperature is 5 and ranges from 5 to 25.\n"
      ]
    },
    {
      "cell_type": "code",
      "metadata": {
        "id": "jU9E7cHCDmIo"
      },
      "source": [
        "# let's work with tensorflow probobility distribution (tfd)\n",
        "\n",
        "tfd = tfp.distributions\n",
        "\n",
        "## define all the 3 steps to create HMM: state (initial), transition, observation\n",
        "# dist --> distribution \n",
        "initial_dist = tfd.Categorical(probs=[0.3, 0.7]) # as per the above point 2: 80% chance of being cold\n",
        "transition_dist = tfd.Categorical(probs= [[0.5, 0.5], [0.4, 0.6]]) # point 3 and point 4\n",
        "observation_dist = tfd.Normal(loc=[0.,15.], scale=[5., 10.])# point 5, loc --> represent Mean of cold and hot day, scale --> represents SD of cold and hot day \n",
        "\n"
      ],
      "execution_count": 18,
      "outputs": []
    },
    {
      "cell_type": "markdown",
      "metadata": {
        "id": "wL0maJxgKHAR"
      },
      "source": [
        "## Creating Hidden Markov Model"
      ]
    },
    {
      "cell_type": "code",
      "metadata": {
        "id": "zYghkP01DmJf"
      },
      "source": [
        "hmm_model = tfd.HiddenMarkovModel(initial_distribution=initial_dist, transition_distribution=transition_dist, observation_distribution=observation_dist, num_steps=7)\n",
        "\n",
        "# num_steps: number of days that we would like to predict information for\n",
        "# num_steps = 7 --> for entire week, I want to predict "
      ],
      "execution_count": 19,
      "outputs": []
    },
    {
      "cell_type": "code",
      "metadata": {
        "colab": {
          "base_uri": "https://localhost:8080/"
        },
        "id": "rByP7TDVDmN5",
        "outputId": "5bb75cd5-8ecd-4dc4-f7fc-7f0ed202ade9"
      },
      "source": [
        "#  Goal: predict average(mean) temprature on each day \n",
        "\n",
        "mean = hmm_model.mean() # will calculate the probability from Model \n",
        "\n",
        "'''\n",
        "mean --> it is partially defined value in Tensorflow, need to evaluate part of the graph from within a session to see the value of this tensor\n",
        "'''\n",
        "\n",
        "with tf.compat.v1.Session() as sess:  \n",
        "  print(mean.numpy())\n",
        "\n",
        "# output: [10.5        8.55       8.3550005  8.335501   8.333551   8.333356    8.333338 ]\n",
        "# as we started from cold day, the first day average temp is 10.5 degree"
      ],
      "execution_count": 20,
      "outputs": [
        {
          "output_type": "stream",
          "name": "stdout",
          "text": [
            "[10.5        8.55       8.3550005  8.335501   8.333551   8.333356\n",
            "  8.333338 ]\n"
          ]
        }
      ]
    },
    {
      "cell_type": "code",
      "metadata": {
        "id": "BHdOu9PfQyQw"
      },
      "source": [
        ""
      ],
      "execution_count": null,
      "outputs": []
    }
  ]
}