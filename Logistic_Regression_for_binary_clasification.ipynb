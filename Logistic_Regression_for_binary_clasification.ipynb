{
  "nbformat": 4,
  "nbformat_minor": 0,
  "metadata": {
    "colab": {
      "name": "Logistic_Regression_for_binary_clasification.ipynb",
      "provenance": [],
      "collapsed_sections": []
    },
    "kernelspec": {
      "name": "python3",
      "display_name": "Python 3"
    },
    "language_info": {
      "name": "python"
    }
  },
  "cells": [
    {
      "cell_type": "markdown",
      "metadata": {
        "id": "iVevYxO1OxG3"
      },
      "source": [
        "```Use case/Task: on the given of Titanic dataset, predict the liklihood of person to survive in the future```\n",
        "\n",
        "\n",
        "\n",
        "\n",
        "\n",
        "# Setup and import"
      ]
    },
    {
      "cell_type": "code",
      "metadata": {
        "id": "4YVY1s7KOFWG"
      },
      "source": [
        "!pip install -q sklearn"
      ],
      "execution_count": 1,
      "outputs": []
    },
    {
      "cell_type": "code",
      "metadata": {
        "id": "luwBN3zsOoli"
      },
      "source": [
        "%tensorflow_version 2.x"
      ],
      "execution_count": 2,
      "outputs": []
    },
    {
      "cell_type": "code",
      "metadata": {
        "id": "h-5WsqHfOvgb"
      },
      "source": [
        "from __future__ import absolute_import, division, print_function, unicode_literals\n",
        "\n",
        "import numpy as np\n",
        "import pandas as pd\n",
        "import matplotlib.pyplot as plt\n",
        "from IPython.display import clear_output # to clear output\n",
        "from six.moves import urllib\n",
        "\n",
        "import tensorflow as tf\n",
        "import tensorflow.compat.v2.feature_column as fc # to create feature columns\n",
        "\n"
      ],
      "execution_count": 3,
      "outputs": []
    },
    {
      "cell_type": "markdown",
      "metadata": {
        "id": "Cj9O8IvbQVBG"
      },
      "source": [
        "# Titanic dataset\n",
        "\n",
        "Major part of machine learning is data. It's so important to exploring, cleaning and selecting appropriate data.\n",
        "\n",
        "\n",
        "\n",
        "**Let's load a dataset and learn how to  explore it using some built-in tools. **"
      ]
    },
    {
      "cell_type": "code",
      "metadata": {
        "id": "-geHaJ2DOonZ"
      },
      "source": [
        "# load dataset\n",
        "\n",
        "data_train = pd.read_csv('https://storage.googleapis.com/tf-datasets/titanic/train.csv')\n",
        "data_eval = pd.read_csv('https://storage.googleapis.com/tf-datasets/titanic/eval.csv') # test data\n",
        "\n"
      ],
      "execution_count": 4,
      "outputs": []
    },
    {
      "cell_type": "markdown",
      "metadata": {
        "id": "TJaWzLDgbDgo"
      },
      "source": [
        "####  Training vs Testing Data\n",
        "there are **two different datasets** above. This is because when we train models, we need two sets of data: **training and testing**. \n",
        "\n",
        "The **training** data is what we feed to the model so that it can develop and learn. It is usually a much larger size than the testing data.\n",
        "\n",
        "The **testing** data is what we use to evaulate the model and see how well it is performing. We must use a seperate set of data that the model has not been trained on to evaluate it. Can you think of why this is?\n",
        "\n",
        "Well, the point of our model is to be able to make predictions on NEW data, data that we have never seen before. If we simply test the model on the data that it has already seen we cannot measure its accuracy accuratly. We can't be sure that the model hasn't simply memorized our training data. This is why we need our testing and training data to be seperate.\n",
        "\n"
      ]
    },
    {
      "cell_type": "code",
      "metadata": {
        "colab": {
          "base_uri": "https://localhost:8080/"
        },
        "id": "d7rxfjNyH6OZ",
        "outputId": "0bc57573-a2f0-451e-f1cf-f5988c9bf3a3"
      },
      "source": [
        "# data analysis\n",
        "\n",
        "#1. see dataset\n",
        "print(data_train.head(5))\n",
        "\n",
        "#2 see all the columns\n",
        "print(\"All Columns: \",data_train.columns)\n",
        "\n",
        "#3. all info\n",
        "print(data_train.info())\n",
        "\n",
        "#4. mean, standar deviation, maximum, minimum\n",
        "print(data_train.describe())"
      ],
      "execution_count": 5,
      "outputs": [
        {
          "output_type": "stream",
          "name": "stdout",
          "text": [
            "   survived     sex   age  ...     deck  embark_town  alone\n",
            "0         0    male  22.0  ...  unknown  Southampton      n\n",
            "1         1  female  38.0  ...        C    Cherbourg      n\n",
            "2         1  female  26.0  ...  unknown  Southampton      y\n",
            "3         1  female  35.0  ...        C  Southampton      n\n",
            "4         0    male  28.0  ...  unknown   Queenstown      y\n",
            "\n",
            "[5 rows x 10 columns]\n",
            "All Columns:  Index(['survived', 'sex', 'age', 'n_siblings_spouses', 'parch', 'fare',\n",
            "       'class', 'deck', 'embark_town', 'alone'],\n",
            "      dtype='object')\n",
            "<class 'pandas.core.frame.DataFrame'>\n",
            "RangeIndex: 627 entries, 0 to 626\n",
            "Data columns (total 10 columns):\n",
            " #   Column              Non-Null Count  Dtype  \n",
            "---  ------              --------------  -----  \n",
            " 0   survived            627 non-null    int64  \n",
            " 1   sex                 627 non-null    object \n",
            " 2   age                 627 non-null    float64\n",
            " 3   n_siblings_spouses  627 non-null    int64  \n",
            " 4   parch               627 non-null    int64  \n",
            " 5   fare                627 non-null    float64\n",
            " 6   class               627 non-null    object \n",
            " 7   deck                627 non-null    object \n",
            " 8   embark_town         627 non-null    object \n",
            " 9   alone               627 non-null    object \n",
            "dtypes: float64(2), int64(3), object(5)\n",
            "memory usage: 49.1+ KB\n",
            "None\n",
            "         survived         age  n_siblings_spouses       parch        fare\n",
            "count  627.000000  627.000000          627.000000  627.000000  627.000000\n",
            "mean     0.387560   29.631308            0.545455    0.379585   34.385399\n",
            "std      0.487582   12.511818            1.151090    0.792999   54.597730\n",
            "min      0.000000    0.750000            0.000000    0.000000    0.000000\n",
            "25%      0.000000   23.000000            0.000000    0.000000    7.895800\n",
            "50%      0.000000   28.000000            0.000000    0.000000   15.045800\n",
            "75%      1.000000   35.000000            1.000000    0.000000   31.387500\n",
            "max      1.000000   80.000000            8.000000    5.000000  512.329200\n"
          ]
        }
      ]
    },
    {
      "cell_type": "code",
      "metadata": {
        "colab": {
          "base_uri": "https://localhost:8080/"
        },
        "id": "puOgwBeMOowJ",
        "outputId": "115b934e-0396-4f5c-966a-0ac6677d7ada"
      },
      "source": [
        "# assigning column to Lable Y\n",
        "\n",
        "y_train = data_train.pop('survived') # popping this column and assigning it as Lable (we just can't do data_train['survived'] becase these way this couls will also be part of features and Y, which is wrong so we have to pop it out)\n",
        "y_eval = data_eval.pop('survived')\n",
        "\n",
        "y_train.head(5)\n"
      ],
      "execution_count": 6,
      "outputs": [
        {
          "output_type": "execute_result",
          "data": {
            "text/plain": [
              "0    0\n",
              "1    1\n",
              "2    1\n",
              "3    1\n",
              "4    0\n",
              "Name: survived, dtype: int64"
            ]
          },
          "metadata": {},
          "execution_count": 6
        }
      ]
    },
    {
      "cell_type": "code",
      "metadata": {
        "colab": {
          "base_uri": "https://localhost:8080/"
        },
        "id": "ZV607lPTOoxi",
        "outputId": "7fb8e0b9-3734-43a4-996d-728df784f9d1"
      },
      "source": [
        "data_train.shape # (627, 9)\n",
        "\n",
        "# 627 = rows/observations, 9 = features\n"
      ],
      "execution_count": 7,
      "outputs": [
        {
          "output_type": "execute_result",
          "data": {
            "text/plain": [
              "(627, 9)"
            ]
          },
          "metadata": {},
          "execution_count": 7
        }
      ]
    },
    {
      "cell_type": "code",
      "metadata": {
        "colab": {
          "base_uri": "https://localhost:8080/",
          "height": 546
        },
        "id": "fOCrrlMhOo1R",
        "outputId": "87390048-afba-453c-8f38-a9a8f6b3b9d9"
      },
      "source": [
        "# data plot with age column\n",
        "\n",
        "print(data_train.age) # this can give age column value\n",
        "data_train.age.hist(bins=20,color='R')"
      ],
      "execution_count": 8,
      "outputs": [
        {
          "output_type": "stream",
          "name": "stdout",
          "text": [
            "0      22.0\n",
            "1      38.0\n",
            "2      26.0\n",
            "3      35.0\n",
            "4      28.0\n",
            "       ... \n",
            "622    28.0\n",
            "623    25.0\n",
            "624    19.0\n",
            "625    28.0\n",
            "626    32.0\n",
            "Name: age, Length: 627, dtype: float64\n"
          ]
        },
        {
          "output_type": "stream",
          "name": "stderr",
          "text": [
            "/usr/local/lib/python3.7/dist-packages/pandas/plotting/_matplotlib/hist.py:329: MatplotlibDeprecationWarning: Support for uppercase single-letter colors is deprecated since Matplotlib 3.1 and will be removed in 3.3; please use lowercase instead.\n",
            "  ax.hist(values, bins=bins, **kwds)\n"
          ]
        },
        {
          "output_type": "execute_result",
          "data": {
            "text/plain": [
              "<matplotlib.axes._subplots.AxesSubplot at 0x7f956cbf0090>"
            ]
          },
          "metadata": {},
          "execution_count": 8
        },
        {
          "output_type": "display_data",
          "data": {
            "image/png": "[encoded data removed]",
            "text/plain": [
              "<Figure size 432x288 with 1 Axes>"
            ]
          },
          "metadata": {
            "needs_background": "light"
          }
        }
      ]
    },
    {
      "cell_type": "code",
      "metadata": {
        "colab": {
          "base_uri": "https://localhost:8080/",
          "height": 334
        },
        "id": "xb9_05FoOo4E",
        "outputId": "848d970a-b5fa-494f-9d08-d16ae59e42a6"
      },
      "source": [
        "# sex data\n",
        "\n",
        "print(data_train.sex.value_counts())\n",
        "data_train.sex.value_counts().plot(kind='barh')"
      ],
      "execution_count": 9,
      "outputs": [
        {
          "output_type": "stream",
          "name": "stdout",
          "text": [
            "male      410\n",
            "female    217\n",
            "Name: sex, dtype: int64\n"
          ]
        },
        {
          "output_type": "execute_result",
          "data": {
            "text/plain": [
              "<matplotlib.axes._subplots.AxesSubplot at 0x7f956cafac10>"
            ]
          },
          "metadata": {},
          "execution_count": 9
        },
        {
          "output_type": "display_data",
          "data": {
            "image/png": "[encoded data removed]",
            "text/plain": [
              "<Figure size 432x288 with 1 Axes>"
            ]
          },
          "metadata": {
            "needs_background": "light"
          }
        }
      ]
    },
    {
      "cell_type": "code",
      "metadata": {
        "colab": {
          "base_uri": "https://localhost:8080/",
          "height": 282
        },
        "id": "5JRnPklmOo6U",
        "outputId": "f7be974b-e55c-4733-d97a-3f053162528f"
      },
      "source": [
        "# we can also do this\n",
        "data_train.sex.hist(bins=10)"
      ],
      "execution_count": 10,
      "outputs": [
        {
          "output_type": "execute_result",
          "data": {
            "text/plain": [
              "<matplotlib.axes._subplots.AxesSubplot at 0x7f956c5dc290>"
            ]
          },
          "metadata": {},
          "execution_count": 10
        },
        {
          "output_type": "display_data",
          "data": {
            "image/png": "[encoded data removed]",
            "text/plain": [
              "<Figure size 432x288 with 1 Axes>"
            ]
          },
          "metadata": {
            "needs_background": "light"
          }
        }
      ]
    },
    {
      "cell_type": "code",
      "metadata": {
        "colab": {
          "base_uri": "https://localhost:8080/",
          "height": 282
        },
        "id": "k0bFsvdlOo78",
        "outputId": "812147dc-4586-4e67-ae8f-fcb55ff1c7b0"
      },
      "source": [
        "# class columns\n",
        "\n",
        "data_train['class'].value_counts().plot(kind='barh')"
      ],
      "execution_count": 11,
      "outputs": [
        {
          "output_type": "execute_result",
          "data": {
            "text/plain": [
              "<matplotlib.axes._subplots.AxesSubplot at 0x7f956c59d110>"
            ]
          },
          "metadata": {},
          "execution_count": 11
        },
        {
          "output_type": "display_data",
          "data": {
            "image/png": "[encoded data removed]",
            "text/plain": [
              "<Figure size 432x288 with 1 Axes>"
            ]
          },
          "metadata": {
            "needs_background": "light"
          }
        }
      ]
    },
    {
      "cell_type": "code",
      "metadata": {
        "colab": {
          "base_uri": "https://localhost:8080/",
          "height": 296
        },
        "id": "QpWN56gNOo_T",
        "outputId": "57496eb1-9e41-4cb0-a082-dfd74271a4f7"
      },
      "source": [
        "# % survival by sex\n",
        "\n",
        "pd.concat([data_train,y_train], axis=1).groupby('sex').survived.mean().plot(kind='barh').set_xlabel('% survive')"
      ],
      "execution_count": 12,
      "outputs": [
        {
          "output_type": "execute_result",
          "data": {
            "text/plain": [
              "Text(0.5, 0, '% survive')"
            ]
          },
          "metadata": {},
          "execution_count": 12
        },
        {
          "output_type": "display_data",
          "data": {
            "image/png": "[encoded data removed]",
            "text/plain": [
              "<Figure size 432x288 with 1 Axes>"
            ]
          },
          "metadata": {
            "needs_background": "light"
          }
        }
      ]
    },
    {
      "cell_type": "markdown",
      "metadata": {
        "id": "Eo0Zcoh5Opo9"
      },
      "source": [
        "after analyze:\n",
        "\n",
        "- majority of passenger are in their 20's or 30's\n",
        "- majority of passenger are male\n",
        "- majority of passenger are in the 'third' class\n",
        "- females have a much higher chance to survive\n",
        "\n",
        "\n",
        "\n"
      ]
    },
    {
      "cell_type": "code",
      "metadata": {
        "colab": {
          "base_uri": "https://localhost:8080/",
          "height": 206
        },
        "id": "a0xE7h-iN8ER",
        "outputId": "341e4569-ee7a-440e-b6dd-18f1ecf1a935"
      },
      "source": [
        "# for male\n",
        "mask1 = data_train.sex == 'male'\n",
        "# mask2 = data_train.sex == 'female'\n",
        "mask3 = data_train.age.between(20, 30)\n",
        "mask4 = data_train['class'] == 'Third'\n",
        "\n",
        "\n",
        "male_filtered_df = data_train.loc[mask1 & mask3 & mask4, ['sex', 'age', 'class']]\n",
        "male_filtered_df.head(5)"
      ],
      "execution_count": 13,
      "outputs": [
        {
          "output_type": "execute_result",
          "data": {
            "text/html": [
              "<div>\n",
              "<style scoped>\n",
              "    .dataframe tbody tr th:only-of-type {\n",
              "        vertical-align: middle;\n",
              "    }\n",
              "\n",
              "    .dataframe tbody tr th {\n",
              "        vertical-align: top;\n",
              "    }\n",
              "\n",
              "    .dataframe thead th {\n",
              "        text-align: right;\n",
              "    }\n",
              "</style>\n",
              "<table border=\"1\" class=\"dataframe\">\n",
              "  <thead>\n",
              "    <tr style=\"text-align: right;\">\n",
              "      <th></th>\n",
              "      <th>sex</th>\n",
              "      <th>age</th>\n",
              "      <th>class</th>\n",
              "    </tr>\n",
              "  </thead>\n",
              "  <tbody>\n",
              "    <tr>\n",
              "      <th>0</th>\n",
              "      <td>male</td>\n",
              "      <td>22.0</td>\n",
              "      <td>Third</td>\n",
              "    </tr>\n",
              "    <tr>\n",
              "      <th>4</th>\n",
              "      <td>male</td>\n",
              "      <td>28.0</td>\n",
              "      <td>Third</td>\n",
              "    </tr>\n",
              "    <tr>\n",
              "      <th>9</th>\n",
              "      <td>male</td>\n",
              "      <td>20.0</td>\n",
              "      <td>Third</td>\n",
              "    </tr>\n",
              "    <tr>\n",
              "      <th>19</th>\n",
              "      <td>male</td>\n",
              "      <td>28.0</td>\n",
              "      <td>Third</td>\n",
              "    </tr>\n",
              "    <tr>\n",
              "      <th>22</th>\n",
              "      <td>male</td>\n",
              "      <td>28.0</td>\n",
              "      <td>Third</td>\n",
              "    </tr>\n",
              "  </tbody>\n",
              "</table>\n",
              "</div>"
            ],
            "text/plain": [
              "     sex   age  class\n",
              "0   male  22.0  Third\n",
              "4   male  28.0  Third\n",
              "9   male  20.0  Third\n",
              "19  male  28.0  Third\n",
              "22  male  28.0  Third"
            ]
          },
          "metadata": {},
          "execution_count": 13
        }
      ]
    },
    {
      "cell_type": "code",
      "metadata": {
        "colab": {
          "base_uri": "https://localhost:8080/",
          "height": 206
        },
        "id": "ipBp2G3_N8FT",
        "outputId": "54da463c-9bcd-43cb-e3f3-ec2d9673ca0b"
      },
      "source": [
        "# for female\n",
        "\n",
        "mask2 = data_train.sex == 'female'\n",
        "mask3 = data_train.age.between(20, 30)\n",
        "mask4 = data_train['class'] == 'Third'\n",
        "\n",
        "\n",
        "female_filtered_df = data_train.loc[mask2 & mask3 & mask4, ['sex', 'age', 'class']]\n",
        "female_filtered_df.head(5)\n"
      ],
      "execution_count": 14,
      "outputs": [
        {
          "output_type": "execute_result",
          "data": {
            "text/html": [
              "<div>\n",
              "<style scoped>\n",
              "    .dataframe tbody tr th:only-of-type {\n",
              "        vertical-align: middle;\n",
              "    }\n",
              "\n",
              "    .dataframe tbody tr th {\n",
              "        vertical-align: top;\n",
              "    }\n",
              "\n",
              "    .dataframe thead th {\n",
              "        text-align: right;\n",
              "    }\n",
              "</style>\n",
              "<table border=\"1\" class=\"dataframe\">\n",
              "  <thead>\n",
              "    <tr style=\"text-align: right;\">\n",
              "      <th></th>\n",
              "      <th>sex</th>\n",
              "      <th>age</th>\n",
              "      <th>class</th>\n",
              "    </tr>\n",
              "  </thead>\n",
              "  <tbody>\n",
              "    <tr>\n",
              "      <th>2</th>\n",
              "      <td>female</td>\n",
              "      <td>26.0</td>\n",
              "      <td>Third</td>\n",
              "    </tr>\n",
              "    <tr>\n",
              "      <th>6</th>\n",
              "      <td>female</td>\n",
              "      <td>27.0</td>\n",
              "      <td>Third</td>\n",
              "    </tr>\n",
              "    <tr>\n",
              "      <th>15</th>\n",
              "      <td>female</td>\n",
              "      <td>28.0</td>\n",
              "      <td>Third</td>\n",
              "    </tr>\n",
              "    <tr>\n",
              "      <th>21</th>\n",
              "      <td>female</td>\n",
              "      <td>28.0</td>\n",
              "      <td>Third</td>\n",
              "    </tr>\n",
              "    <tr>\n",
              "      <th>25</th>\n",
              "      <td>female</td>\n",
              "      <td>28.0</td>\n",
              "      <td>Third</td>\n",
              "    </tr>\n",
              "  </tbody>\n",
              "</table>\n",
              "</div>"
            ],
            "text/plain": [
              "       sex   age  class\n",
              "2   female  26.0  Third\n",
              "6   female  27.0  Third\n",
              "15  female  28.0  Third\n",
              "21  female  28.0  Third\n",
              "25  female  28.0  Third"
            ]
          },
          "metadata": {},
          "execution_count": 14
        }
      ]
    },
    {
      "cell_type": "markdown",
      "metadata": {
        "id": "JCUMq7X1apLO"
      },
      "source": [
        "# Feature Columns\n",
        "```convert categorcial value into numerical value```\n",
        "\n",
        "\n",
        "In feature columns we have two different kinds of information: Categorical and Numeric\n",
        "\n",
        "Our categorical data is anything that is not numeric! For example, the sex column does not use numbers, it uses the words \"male\" and \"female\".\n",
        "\n",
        "Before we continue and create/train a model we must convet our categorical data into numeric data. We can do this by encoding each category with an integer (ex. male = 1, female = 2).\n",
        "\n",
        "TensorFlow has some tools to help - \n",
        "1. ```tf.feature_column.categorical_column_with_vocabulary_list() method```\n",
        "2. ```tf.feature_column.numeric_column()```"
      ]
    },
    {
      "cell_type": "code",
      "metadata": {
        "colab": {
          "base_uri": "https://localhost:8080/"
        },
        "id": "ZsevJFRGN8PE",
        "outputId": "22e8ab6b-9703-45ea-c412-42a82140fbcb"
      },
      "source": [
        "categorical_col = ['sex', 'n_siblings_spouses', 'parch', 'class', 'deck','embark_town', 'alone']\n",
        "numerical_col = ['age','fare']\n",
        "\n",
        "\n",
        "feature_col = []\n",
        "for each_feature_name in categorical_col:\n",
        "  vocab = data_train[each_feature_name].unique() # get a list of all feature one by one\n",
        "  feature_col.append(tf.feature_column.categorical_column_with_vocabulary_list(each_feature_name, vocab))\n",
        "\n",
        "\n",
        "for each_feature_name in numerical_col:\n",
        "  feature_col.append(tf.feature_column.numeric_column(each_feature_name, dtype= tf.float32))\n",
        "\n",
        "\n",
        "print(feature_col)"
      ],
      "execution_count": 15,
      "outputs": [
        {
          "output_type": "stream",
          "name": "stdout",
          "text": [
            "[VocabularyListCategoricalColumn(key='sex', vocabulary_list=('male', 'female'), dtype=tf.string, default_value=-1, num_oov_buckets=0), VocabularyListCategoricalColumn(key='n_siblings_spouses', vocabulary_list=(1, 0, 3, 4, 2, 5, 8), dtype=tf.int64, default_value=-1, num_oov_buckets=0), VocabularyListCategoricalColumn(key='parch', vocabulary_list=(0, 1, 2, 5, 3, 4), dtype=tf.int64, default_value=-1, num_oov_buckets=0), VocabularyListCategoricalColumn(key='class', vocabulary_list=('Third', 'First', 'Second'), dtype=tf.string, default_value=-1, num_oov_buckets=0), VocabularyListCategoricalColumn(key='deck', vocabulary_list=('unknown', 'C', 'G', 'A', 'B', 'D', 'F', 'E'), dtype=tf.string, default_value=-1, num_oov_buckets=0), VocabularyListCategoricalColumn(key='embark_town', vocabulary_list=('Southampton', 'Cherbourg', 'Queenstown', 'unknown'), dtype=tf.string, default_value=-1, num_oov_buckets=0), VocabularyListCategoricalColumn(key='alone', vocabulary_list=('n', 'y'), dtype=tf.string, default_value=-1, num_oov_buckets=0), NumericColumn(key='age', shape=(1,), default_value=None, dtype=tf.float32, normalizer_fn=None), NumericColumn(key='fare', shape=(1,), default_value=None, dtype=tf.float32, normalizer_fn=None)]\n"
          ]
        }
      ]
    },
    {
      "cell_type": "markdown",
      "metadata": {
        "id": "lO3Th42zfUjR"
      },
      "source": [
        "# Model"
      ]
    },
    {
      "cell_type": "markdown",
      "metadata": {
        "id": "M5gHQvelfXit"
      },
      "source": [
        "## The Training Process\n",
        "How our model is trained. Specifically, how input data is fed to our model. \n",
        "\n",
        "For this specific model data is going to be streamed into it in small batches of 32. This means we will not feed the entire dataset to our model at once, but simply small batches of entries. We will feed these batches to our model multiple times according to the number of **epochs**. \n",
        "\n",
        "An **epoch** is simply one stream of our entire dataset. The number of epochs we define is the amount of times our model will see the entire dataset. We use multiple epochs in hope that after seeing the same data multiple times the model will better determine how to estimate it.\n",
        "\n",
        "Example- if we have 10 ephocs, our model will see the same dataset 10 times. \n",
        "\n",
        "Since we need to feed our data in batches and multiple times, we need to create something called an **input function**. The input function simply defines how our dataset will be converted into batches at each epoch.\n",
        "\n",
        "\n",
        "\n"
      ]
    },
    {
      "cell_type": "markdown",
      "metadata": {
        "id": "Ew--SX-QtTHr"
      },
      "source": [
        "#### Input Function \n",
        "- define how batches and epoch are gloing to feed into model.\n",
        "\n",
        "- The TensorFlow model we are going to use requires that the data we pass it comes in as a ```tf.data.Dataset``` object. This means we must create a *input function* that can convert our current pandas dataframe into that object. \n",
        "\n",
        "help: https://www.tensorflow.org/tutorials/estimator/linear"
      ]
    },
    {
      "cell_type": "code",
      "metadata": {
        "id": "Dmcxlg5meeCV"
      },
      "source": [
        "def make_input_function(data_df, label_df, num_of_epochs = 10, shuffle= True, batch_size = 32): # shuffle= True: shuffle/randomize the data value before pass it to model\n",
        "  def input_function():\n",
        "    data_set = tf.data.Dataset.from_tensor_slices((dict(data_df), label_df)) # create a dict of all feature of data_df --> and then pass it to tf.data.Dataset : which create a object with data(data_df) with it's label_df\n",
        "\n",
        "    if shuffle:\n",
        "      data_set = data_set.shuffle(1000)\n",
        "    \n",
        "    data_set = data_set.batch(batch_size).repeat(num_of_epochs)     # split dataset into batches of 32 and repeat process for number of epochs\n",
        "    return data_set     # return a batch of the dataset\n",
        "\n",
        "  return input_function # # return a function object \n",
        "\n",
        "\n",
        "train_input_func = make_input_function(data_train, y_train)   # calling input_function to give a dataset object, which we can use for Model\n",
        "eval_input_func = make_input_function(data_eval, y_eval, num_of_epochs=1, shuffle=False) # we are overriding num_of_epochs=1, shuffle=False here (whereas for train_input_func, epoch (10) and shuffle(true) will be dafult which are passed into function)\n",
        "\n",
        "\n",
        "\n",
        "\n",
        "\n",
        "\n",
        "\n"
      ],
      "execution_count": 16,
      "outputs": []
    },
    {
      "cell_type": "markdown",
      "metadata": {
        "id": "YbXSmx7w27X3"
      },
      "source": [
        "# Model Create\n",
        "\n",
        "- using linear estimator for linear regression"
      ]
    },
    {
      "cell_type": "code",
      "metadata": {
        "colab": {
          "base_uri": "https://localhost:8080/"
        },
        "id": "rP53Ho3IeeDa",
        "outputId": "886321d4-3913-4916-cb0b-274fb3c5005c"
      },
      "source": [
        "# create Linear estimator\n",
        "\n",
        "linear_estimator = tf.estimator.LinearClassifier(feature_columns= feature_col)"
      ],
      "execution_count": 20,
      "outputs": [
        {
          "output_type": "stream",
          "name": "stdout",
          "text": [
            "INFO:tensorflow:Using default config.\n",
            "WARNING:tensorflow:Using temporary folder as model directory: /tmp/tmpd2v73uu8\n",
            "INFO:tensorflow:Using config: {'_model_dir': '/tmp/tmpd2v73uu8', '_tf_random_seed': None, '_save_summary_steps': 100, '_save_checkpoints_steps': None, '_save_checkpoints_secs': 600, '_session_config': allow_soft_placement: true\n",
            "graph_options {\n",
            "  rewrite_options {\n",
            "    meta_optimizer_iterations: ONE\n",
            "  }\n",
            "}\n",
            ", '_keep_checkpoint_max': 5, '_keep_checkpoint_every_n_hours': 10000, '_log_step_count_steps': 100, '_train_distribute': None, '_device_fn': None, '_protocol': None, '_eval_distribute': None, '_experimental_distribute': None, '_experimental_max_worker_delay_secs': None, '_session_creation_timeout_secs': 7200, '_checkpoint_save_graph_def': True, '_service': None, '_cluster_spec': ClusterSpec({}), '_task_type': 'worker', '_task_id': 0, '_global_id_in_cluster': 0, '_master': '', '_evaluation_master': '', '_is_chief': True, '_num_ps_replicas': 0, '_num_worker_replicas': 1}\n"
          ]
        }
      ]
    },
    {
      "cell_type": "markdown",
      "metadata": {
        "id": "qldPdn-j3lwH"
      },
      "source": [
        "# Model Training"
      ]
    },
    {
      "cell_type": "code",
      "metadata": {
        "colab": {
          "base_uri": "https://localhost:8080/"
        },
        "id": "maMhTiI0eeIb",
        "outputId": "c7057ce1-28df-4513-f61e-5166a3e52995"
      },
      "source": [
        "# Train\n",
        "linear_estimator.train(train_input_func)\n",
        "\n",
        "# result accuracy on test data: get model metrics/stats\n",
        "result = linear_estimator.evaluate(eval_input_func)\n",
        "\n",
        "\n",
        "# clear console output\n",
        "clear_output()\n",
        "\n",
        "# print MSE: the result variable is simply a dict of stats about our model\n",
        "print(result['accuracy'])# 0.7613636 --> 76.13% accuracy\n",
        "\n",
        "\n"
      ],
      "execution_count": 22,
      "outputs": [
        {
          "output_type": "stream",
          "name": "stdout",
          "text": [
            "0.7613636\n"
          ]
        }
      ]
    },
    {
      "cell_type": "markdown",
      "metadata": {
        "id": "DTAAXHLX0AzU"
      },
      "source": [
        "# Prediction\n",
        "\n",
        "Now we can actually use this model to make predicitons.\n",
        "\n",
        "We can use the ```.predict()``` method to get survival probabilities from the model. This method will return a list of dicts that store a predicition for each of the entries in our testing data set. Below we've used some pandas magic to plot a nice graph of the predictions.\n",
        "\n",
        "As you can see the survival rate is not very high :/"
      ]
    },
    {
      "cell_type": "code",
      "metadata": {
        "colab": {
          "base_uri": "https://localhost:8080/",
          "height": 457
        },
        "id": "LhKdWwHN0BFS",
        "outputId": "4dea7827-3a0f-4caf-ee93-04de706e534e"
      },
      "source": [
        "# create dict\n",
        "prediction_dict= list(linear_estimator.predict(eval_input_func))\n",
        "# print(prediction_dict)\n",
        "predict_prob = pd.Series([pred['probabilities'][1] for pred in prediction_dict])\n",
        "predict_prob.plot(kind = 'hist', bins=20, title='Prediction Probibilites')\n"
      ],
      "execution_count": 26,
      "outputs": [
        {
          "output_type": "stream",
          "name": "stdout",
          "text": [
            "INFO:tensorflow:Calling model_fn.\n"
          ]
        },
        {
          "output_type": "stream",
          "name": "stderr",
          "text": [
            "/usr/local/lib/python3.7/dist-packages/tensorflow_estimator/python/estimator/canned/linear.py:1478: UserWarning: `layer.add_variable` is deprecated and will be removed in a future version. Please use `layer.add_weight` method instead.\n",
            "  getter=tf.compat.v1.get_variable)\n"
          ]
        },
        {
          "output_type": "stream",
          "name": "stdout",
          "text": [
            "INFO:tensorflow:Done calling model_fn.\n",
            "INFO:tensorflow:Graph was finalized.\n",
            "INFO:tensorflow:Restoring parameters from /tmp/tmpd2v73uu8/model.ckpt-200\n",
            "INFO:tensorflow:Running local_init_op.\n",
            "INFO:tensorflow:Done running local_init_op.\n"
          ]
        },
        {
          "output_type": "execute_result",
          "data": {
            "text/plain": [
              "<matplotlib.axes._subplots.AxesSubplot at 0x7f956816ce90>"
            ]
          },
          "metadata": {},
          "execution_count": 26
        },
        {
          "output_type": "display_data",
          "data": {
            "image/png": "[encoded data removed]",
            "text/plain": [
              "<Figure size 432x288 with 1 Axes>"
            ]
          },
          "metadata": {
            "needs_background": "light"
          }
        }
      ]
    },
    {
      "cell_type": "code",
      "metadata": {
        "id": "Q09MnsW00BhI"
      },
      "source": [
        ""
      ],
      "execution_count": 19,
      "outputs": []
    }
  ]
}