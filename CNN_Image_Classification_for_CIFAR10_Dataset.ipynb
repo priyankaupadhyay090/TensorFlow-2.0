{
  "nbformat": 4,
  "nbformat_minor": 0,
  "metadata": {
    "accelerator": "GPU",
    "colab": {
      "name": "CNN_Image_Classification_for_CIFAR10_Dataset.ipynb",
      "provenance": [],
      "collapsed_sections": []
    },
    "kernelspec": {
      "display_name": "Python 3",
      "name": "python3"
    }
  },
  "cells": [
    {
      "cell_type": "markdown",
      "metadata": {
        "id": "xqLsm2XzNQSE"
      },
      "source": [
        "##Creating a Convnet\n",
        "\n",
        "###CIFAR 10 Dataset\n",
        "The problem we will consider here is classifying 10 different everyday objects. It contains 60,000 32x32 color images with 6000 images of each class. \n",
        "\n",
        "The labels in this dataset are the following:\n",
        "- Airplane\n",
        "- Automobile\n",
        "- Bird\n",
        "- Cat\n",
        "- Deer\n",
        "- Dog\n",
        "- Frog\n",
        "- Horse\n",
        "- Ship\n",
        "- Truck\n",
        "\n",
        "\n",
        "\n"
      ]
    },
    {
      "cell_type": "markdown",
      "metadata": {
        "id": "m0O-C6gcXAyR"
      },
      "source": [
        "# Setup and import"
      ]
    },
    {
      "cell_type": "code",
      "metadata": {
        "id": "OB9ifo79W92a"
      },
      "source": [
        "%tensorflow_version 2.x\n",
        "\n",
        "import tensorflow as tf\n",
        "from tensorflow.keras import datasets, layers, models\n",
        "import matplotlib.pyplot as plt\n",
        "\n"
      ],
      "execution_count": null,
      "outputs": []
    },
    {
      "cell_type": "markdown",
      "metadata": {
        "id": "zdM14MwsXbGj"
      },
      "source": [
        "# Load and split dataset into train and test"
      ]
    },
    {
      "cell_type": "code",
      "metadata": {
        "colab": {
          "base_uri": "https://localhost:8080/"
        },
        "id": "xIw4lgoZW-BE",
        "outputId": "6ca775bb-b476-40a9-d17b-398410043d28"
      },
      "source": [
        "(train_images, train_labels), (test_images, test_labels) = datasets.cifar10.load_data()\n",
        "\n"
      ],
      "execution_count": null,
      "outputs": [
        {
          "output_type": "stream",
          "name": "stdout",
          "text": [
            "Downloading data from https://www.cs.toronto.edu/~kriz/cifar-10-python.tar.gz\n",
            "170500096/170498071 [==============================] - 3s 0us/step\n",
            "170508288/170498071 [==============================] - 3s 0us/step\n"
          ]
        }
      ]
    },
    {
      "cell_type": "code",
      "metadata": {
        "id": "sPrAGqjlW-B5"
      },
      "source": [
        "## Normalizing Train and test images Pixel values between 0 and 1\n",
        "\n",
        "train_images, test_images  = train_images/255.0, test_images/255.0\n"
      ],
      "execution_count": null,
      "outputs": []
    },
    {
      "cell_type": "code",
      "metadata": {
        "id": "gNxhImukW-Gq"
      },
      "source": [
        "## all the class/labels name\n",
        "\n",
        "class_names = ['airplane', 'automobile', 'bird', 'cat', 'deer',\n",
        "               'dog', 'frog', 'horse', 'ship', 'truck']"
      ],
      "execution_count": null,
      "outputs": []
    },
    {
      "cell_type": "code",
      "metadata": {
        "colab": {
          "base_uri": "https://localhost:8080/",
          "height": 280
        },
        "id": "4wasxnn0W-Hc",
        "outputId": "0fbeeb59-cb7c-4289-843e-8b80a6cbc320"
      },
      "source": [
        "# check some images\n",
        "\n",
        "IMG_INDEX = 12\n",
        "\n",
        "plt.imshow(train_images[IMG_INDEX], cmap = plt.cm.binary)\n",
        "plt.xlabel(class_names[train_labels[IMG_INDEX][0]], color = 'r')\n",
        "plt.show()"
      ],
      "execution_count": null,
      "outputs": [
        {
          "output_type": "display_data",
          "data": {
            "image/png": "[encoded data removed]",
            "text/plain": [
              "<Figure size 432x288 with 1 Axes>"
            ]
          },
          "metadata": {
            "needs_background": "light"
          }
        }
      ]
    },
    {
      "cell_type": "markdown",
      "metadata": {
        "id": "QnVzK--Ec5aW"
      },
      "source": [
        "# Model create\n",
        "\n",
        "##CNN Architecture\n",
        "A common architecture for a CNN is a stack of Conv2D and MaxPooling2D layers followed by a few denesly connected layers. To idea is that the stack of convolutional and maxPooling layers extract the features from the image. Then these features are flattened and fed to densly connected layers that determine the class of an image based on the presence of features.\n",
        "\n",
        "We will start by building the **Convolutional Base**."
      ]
    },
    {
      "cell_type": "markdown",
      "metadata": {
        "id": "AVvtpzccfrYU"
      },
      "source": [
        "**Layer 1**\n",
        "\n",
        "The input shape of our data will be 32, 32, 3 and we will process 32 filters of size 3x3 over our input data. We will also apply the activation function relu to the output of each convolution operation.\n",
        "\n",
        "**Layer 2**\n",
        "\n",
        "This layer will perform the max pooling operation using 2x2 samples and a stride of 2.\n",
        "\n",
        "**Other Layers**\n",
        "\n",
        "The next set of layers do very similar things but take as input the feature map from the previous layer. They also increase the frequency of filters from 32 to 64. We can do this as our data shrinks in spacial dimensions as it passed through the layers, meaning we can afford (computationally) to add more depth (more filter to take out more features)."
      ]
    },
    {
      "cell_type": "code",
      "metadata": {
        "id": "m6e0OoVmW-M9"
      },
      "source": [
        "# use 3 convo filter and 2 max polling layers \n",
        "\n",
        "cnn_model = models.Sequential()\n",
        "\n",
        "# Convolution filter of size 3x3 and number fo filters = 32, 64, 64\n",
        "# activation = Relu\n",
        "# imput image shape = 32x32x3\n",
        "## so model.Conv2D(32, (3, 3), activation='relu', input_shape=(32, 32, 3)))\n",
        "\n",
        "cnn_model.add(layers.Conv2D(32, (3,3), activation = 'relu', input_shape = (32,32,3)))\n",
        "\n",
        "# # max polling filter with size 2x2\n",
        "cnn_model.add(layers.MaxPool2D((2,2)))\n",
        "\n",
        "cnn_model.add(layers.Conv2D(64, (3,3), activation='relu'))\n",
        "cnn_model.add(layers.MaxPooling2D((2, 2)))\n",
        "cnn_model.add(layers.Conv2D(64, (3, 3), activation='relu'))\n",
        "\n"
      ],
      "execution_count": null,
      "outputs": []
    },
    {
      "cell_type": "code",
      "metadata": {
        "colab": {
          "base_uri": "https://localhost:8080/"
        },
        "id": "2pGROhqpW-St",
        "outputId": "1b10a4f4-09b0-4506-9a96-148ef6474978"
      },
      "source": [
        "# model summary\n",
        "\n",
        "cnn_model.summary()"
      ],
      "execution_count": null,
      "outputs": [
        {
          "output_type": "stream",
          "name": "stdout",
          "text": [
            "Model: \"sequential\"\n",
            "_________________________________________________________________\n",
            " Layer (type)                Output Shape              Param #   \n",
            "=================================================================\n",
            " conv2d (Conv2D)             (None, 30, 30, 32)        896       \n",
            "                                                                 \n",
            " max_pooling2d (MaxPooling2D  (None, 15, 15, 32)       0         \n",
            " )                                                               \n",
            "                                                                 \n",
            " conv2d_1 (Conv2D)           (None, 13, 13, 64)        18496     \n",
            "                                                                 \n",
            " max_pooling2d_1 (MaxPooling  (None, 6, 6, 64)         0         \n",
            " 2D)                                                             \n",
            "                                                                 \n",
            " conv2d_2 (Conv2D)           (None, 4, 4, 64)          36928     \n",
            "                                                                 \n",
            "=================================================================\n",
            "Total params: 56,320\n",
            "Trainable params: 56,320\n",
            "Non-trainable params: 0\n",
            "_________________________________________________________________\n"
          ]
        }
      ]
    },
    {
      "cell_type": "markdown",
      "metadata": {
        "id": "IUdMtSjsgXS8"
      },
      "source": [
        "- conv2d_2 (Conv2D)--> (None, 30, 30, 32) --> output shape is 30x30 instead of 32x32 because we do samplinh wihtout padding so we get 2 pixel less\n",
        "\n",
        "- also notice that depth of our image increases but the spacial dimensions reduce drastically."
      ]
    },
    {
      "cell_type": "markdown",
      "metadata": {
        "id": "5tCoxof9hfJU"
      },
      "source": [
        "## Classifier layer: Adding Dense Layers\n",
        "So far, we have just completed the **convolutional base**. Now we need to take these extracted features and add a way to classify them. This is why we add the following layers to our model.\n",
        "\n",
        "- at the end we have classfier layer (so output of last convo layer will be input of classifier layer)-->  output layer will be fully connected/dense layers \n",
        "- we will flatten the output of last convo layer and pass it into classifier (which classfier use, will depend on which loss we are using)\n",
        "- and activation = 'softmax' to get probability of all classes \n",
        "\n"
      ]
    },
    {
      "cell_type": "code",
      "metadata": {
        "id": "d1oGIqhyhd9Y"
      },
      "source": [
        "cnn_model.add(layers.Flatten())\n",
        "\n",
        "## classfier layers-- will use 2 fully connected layers \n",
        "# first fully connected layer\n",
        "cnn_model.add(layers.Dense(64, activation='relu')) # 64 neurons \n",
        "\n",
        "# 2nd fully connected layer \n",
        "cnn_model.add(layers.Dense(10)) # 10 neurons as 10 classes "
      ],
      "execution_count": null,
      "outputs": []
    },
    {
      "cell_type": "code",
      "metadata": {
        "colab": {
          "base_uri": "https://localhost:8080/"
        },
        "id": "L2gqbGzUhAQ2",
        "outputId": "cba69e0f-2b23-4853-9504-e73473c7261b"
      },
      "source": [
        "cnn_model.summary()"
      ],
      "execution_count": null,
      "outputs": [
        {
          "output_type": "stream",
          "name": "stdout",
          "text": [
            "Model: \"sequential\"\n",
            "_________________________________________________________________\n",
            " Layer (type)                Output Shape              Param #   \n",
            "=================================================================\n",
            " conv2d (Conv2D)             (None, 30, 30, 32)        896       \n",
            "                                                                 \n",
            " max_pooling2d (MaxPooling2D  (None, 15, 15, 32)       0         \n",
            " )                                                               \n",
            "                                                                 \n",
            " conv2d_1 (Conv2D)           (None, 13, 13, 64)        18496     \n",
            "                                                                 \n",
            " max_pooling2d_1 (MaxPooling  (None, 6, 6, 64)         0         \n",
            " 2D)                                                             \n",
            "                                                                 \n",
            " conv2d_2 (Conv2D)           (None, 4, 4, 64)          36928     \n",
            "                                                                 \n",
            " flatten (Flatten)           (None, 1024)              0         \n",
            "                                                                 \n",
            " dense (Dense)               (None, 64)                65600     \n",
            "                                                                 \n",
            " dense_1 (Dense)             (None, 10)                650       \n",
            "                                                                 \n",
            "=================================================================\n",
            "Total params: 122,570\n",
            "Trainable params: 122,570\n",
            "Non-trainable params: 0\n",
            "_________________________________________________________________\n"
          ]
        }
      ]
    },
    {
      "cell_type": "markdown",
      "metadata": {
        "id": "7x4GRLe0lGJf"
      },
      "source": [
        "We can see that the flatten layer changes the shape of our data so that we can feed it to the 64-node dense layer, follwed by the final output layer of 10 neurons (one for each class)."
      ]
    },
    {
      "cell_type": "markdown",
      "metadata": {
        "id": "J0NDC7GulpKc"
      },
      "source": [
        "## Compile the model with hyprparamterer: loss, optimizer, performance metrices"
      ]
    },
    {
      "cell_type": "code",
      "metadata": {
        "id": "W0saWlMNlnvA"
      },
      "source": [
        "cnn_model.compile(optimizer= 'adam',\n",
        "                  loss = tf.keras.losses.SparseCategoricalCrossentropy(from_logits=True),\n",
        "                  metrics= ['accuracy'])\n",
        "\n"
      ],
      "execution_count": null,
      "outputs": []
    },
    {
      "cell_type": "markdown",
      "metadata": {
        "id": "StSenEzNk7ck"
      },
      "source": [
        "# Train CNN model\n",
        "\n"
      ]
    },
    {
      "cell_type": "code",
      "metadata": {
        "colab": {
          "base_uri": "https://localhost:8080/"
        },
        "id": "dAgzs-fqW-YX",
        "outputId": "ba545e89-5253-4791-d9a4-e0b1e6eb2963"
      },
      "source": [
        "# train \n",
        "\n",
        "model_training = cnn_model.fit(train_images, train_labels,epochs=10, batch_size=50, validation_data=(test_images, test_labels))\n"
      ],
      "execution_count": null,
      "outputs": [
        {
          "output_type": "stream",
          "name": "stdout",
          "text": [
            "Epoch 1/10\n",
            "1000/1000 [==============================] - 22s 10ms/step - loss: 1.5539 - accuracy: 0.4351 - val_loss: 1.3311 - val_accuracy: 0.5224\n",
            "Epoch 2/10\n",
            "1000/1000 [==============================] - 10s 10ms/step - loss: 1.2015 - accuracy: 0.5741 - val_loss: 1.1239 - val_accuracy: 0.5959\n",
            "Epoch 3/10\n",
            "1000/1000 [==============================] - 10s 10ms/step - loss: 1.0524 - accuracy: 0.6314 - val_loss: 1.0204 - val_accuracy: 0.6405\n",
            "Epoch 4/10\n",
            "1000/1000 [==============================] - 10s 10ms/step - loss: 0.9475 - accuracy: 0.6671 - val_loss: 0.9573 - val_accuracy: 0.6649\n",
            "Epoch 5/10\n",
            "1000/1000 [==============================] - 10s 10ms/step - loss: 0.8737 - accuracy: 0.6948 - val_loss: 0.9003 - val_accuracy: 0.6832\n",
            "Epoch 6/10\n",
            "1000/1000 [==============================] - 10s 10ms/step - loss: 0.8155 - accuracy: 0.7157 - val_loss: 0.9121 - val_accuracy: 0.6896\n",
            "Epoch 7/10\n",
            "1000/1000 [==============================] - 10s 10ms/step - loss: 0.7640 - accuracy: 0.7326 - val_loss: 0.8746 - val_accuracy: 0.6962\n",
            "Epoch 8/10\n",
            "1000/1000 [==============================] - 10s 10ms/step - loss: 0.7235 - accuracy: 0.7472 - val_loss: 0.8472 - val_accuracy: 0.7055\n",
            "Epoch 9/10\n",
            "1000/1000 [==============================] - 10s 10ms/step - loss: 0.6889 - accuracy: 0.7583 - val_loss: 0.8695 - val_accuracy: 0.7002\n",
            "Epoch 10/10\n",
            "1000/1000 [==============================] - 10s 10ms/step - loss: 0.6498 - accuracy: 0.7726 - val_loss: 0.8720 - val_accuracy: 0.7168\n"
          ]
        }
      ]
    },
    {
      "cell_type": "markdown",
      "metadata": {
        "id": "gWbDE1Tc5lxd"
      },
      "source": [
        "# Model Evalution"
      ]
    },
    {
      "cell_type": "code",
      "metadata": {
        "id": "Xii3aasiW-c6",
        "colab": {
          "base_uri": "https://localhost:8080/"
        },
        "outputId": "923e0ba2-4457-499e-f6b8-e4355380d972"
      },
      "source": [
        "test_loss, test_acc = cnn_model.evaluate(test_images, test_labels, verbose=2)\n",
        "print('Test accuracy: ', test_acc)\n",
        "\n",
        "\n",
        "## acc = 71%\n",
        "# This accuracy isn't bad for a simple model like this, but we'll dive into some better approaches for computer vision below."
      ],
      "execution_count": null,
      "outputs": [
        {
          "output_type": "stream",
          "name": "stdout",
          "text": [
            "313/313 - 1s - loss: 0.8720 - accuracy: 0.7168 - 1s/epoch - 5ms/step\n",
            "Test accuracy:  0.7167999744415283\n"
          ]
        }
      ]
    },
    {
      "cell_type": "markdown",
      "metadata": {
        "id": "PxmrUWjw-JCm"
      },
      "source": [
        "# How to work for small dataset\n",
        "\n",
        "- check Data_Agumentation.ipynb"
      ]
    },
    {
      "cell_type": "code",
      "metadata": {
        "id": "fKPLa2YaW-th"
      },
      "source": [
        ""
      ],
      "execution_count": null,
      "outputs": []
    },
    {
      "cell_type": "code",
      "metadata": {
        "id": "uKuD9Qm8W-uf"
      },
      "source": [
        ""
      ],
      "execution_count": null,
      "outputs": []
    }
  ]
}