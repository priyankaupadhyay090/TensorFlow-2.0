{
  "nbformat": 4,
  "nbformat_minor": 0,
  "metadata": {
    "colab": {
      "name": "Neural_Network_with_TensorFlow_for_MNIST_FASHION_DATASET_CLASSIFICATION.ipynb",
      "provenance": [],
      "collapsed_sections": []
    },
    "kernelspec": {
      "name": "python3",
      "display_name": "Python 3"
    }
  },
  "cells": [
    {
      "cell_type": "markdown",
      "metadata": {
        "id": "h0qkbGj7w4_v"
      },
      "source": [
        "# NN to classify Clothings article with Fashion MNIST Dataset \n",
        "- MNIST dataset have all types of images including Fashion images as well. Some MNIST image categories are: Human, dog, cat, Fashion (cloth), flower, car, bicycle, ship, airplane, rocket, tree, ocean, roads, mountain, laptop, pen, paper, fruits, glasses, bed, mattress, table, chair etc.\n"
      ]
    },
    {
      "cell_type": "markdown",
      "metadata": {
        "id": "jqVqT_Cxh4Ho"
      },
      "source": [
        "#Introduction to Neural Networks (NN)\n",
        "To create and use a NN to classify articles of clothing, we will use a sub module of TensorFlow called *keras*.\n",
        "\n",
        "\n",
        "\n"
      ]
    },
    {
      "cell_type": "markdown",
      "metadata": {
        "id": "ZFQqW9r-ikJb"
      },
      "source": [
        "##Keras\n",
        "\n",
        "\n",
        "\"Keras is a high-level neural networks API, written in Python and capable of running on top of TensorFlow, CNTK, or Theano. It was developed with a focus on enabling fast experimentation. \n",
        "\n",
        "Use Keras if you need a deep learning library that:\n",
        "\n",
        "- Allows for easy and fast prototyping (through user friendliness, modularity, and extensibility).\n",
        "- Supports both convolutional networks and recurrent networks, as well as combinations of the two.\n",
        "- Runs seamlessly on CPU and GPU.\"\n",
        "\n",
        "Keras is a very powerful module that allows us to avoid having to build neural networks from scratch. It also hides a lot of mathematical complexity (that otherwise we would have to implement) inside of helpful packages, modules and methods.\n",
        "\n",
        "\n"
      ]
    },
    {
      "cell_type": "markdown",
      "metadata": {
        "id": "Hivk879ZQhxU"
      },
      "source": [
        "##What is a Neural Network\n",
        "\n",
        "\n",
        "A deep neural network is a layered representation of data. The term \"deep\" refers to the presence of multiple layers. Recall that in our core learning algorithms (like linear regression) data was not transformed or modified within the model, it simply existed in one layer. We passed some features to our model, some math was done, an answer was returned. The data was not changed or transformed throughout this process. A neural network processes our data differently. It attempts to represent our data in different ways and in different dimensions by applying specific operations to transform our data at each layer. Another way to express this is that at each layer our data is transformed in order to learn more about it. By performing these transformations, the model can better understand our data and therefore provide a better prediction. \n",
        "\n"
      ]
    },
    {
      "cell_type": "markdown",
      "metadata": {
        "id": "GOqUCZ2klTAq"
      },
      "source": [
        "##How it Works\n",
        "\n",
        "On a lower level neural networks are simply a combination of elementry math operations and some more advanced linear algebra. Each neural network consists of a sequence of layers in which data passes through. These layers are made up on neurons and the neurons of one layer are connected to the next (see below). These connections are defined by what we call a weight (some numeric value). Each layer also has something called a bias, this is simply an extra neuron that has no connections and holds a single numeric value. Data starts at the input layer and is trasnformed as it passes through subsequent layers. The data at each subsequent neuron is defined as the following.\n",
        "\n",
        "> $Y =(\\sum_{i=0}^n w_i x_i) + b$\n",
        "\n",
        "> $w$ stands for the weight of each connection to the neuron\n",
        "\n",
        "> $x$ stands for the value of the connected neuron from the previous value\n",
        "\n",
        "> $b$ stands for the bias at each layer, this is a constant\n",
        "\n",
        "> $n$ is the number of connections\n",
        "\n",
        "> $Y$ is the output of the current neuron\n",
        "\n",
        "> $\\sum$ stands for sum\n",
        "\n",
        "The equation is called a weighed sum. We will take this weighted sum at each and every neuron as we pass information through the network. Then we will add what's called a bias to this sum. The bias allows us to shift the network up or down by a constant value. It is like the y-intercept of a line.\n",
        "\n",
        "But that equation is the not complete one! We forgot a crucial part, **the activation function**. This is a function that we apply to the equation seen above to add complexity and dimensionality to our network. Our new equation with the addition of an activation function $F(x)$ is seen below.\n",
        "\n",
        "> $Y =F((\\sum_{i=0}^n w_i x_i) + b)$\n",
        "\n",
        "Our network will start with predefined activation functions (they may be different at each layer) but random weights and biases. As we train the network by feeding it data it will learn the correct weights and biases and adjust the network accordingly using a technqiue called **backpropagation** (explained below). Once the correct weights and biases have been learned our network will hopefully be able to give us meaningful predictions. We get these predictions by observing the values at our final layer, the output layer. \n",
        "\n",
        "\n"
      ]
    },
    {
      "cell_type": "markdown",
      "metadata": {
        "id": "o-oMh18_j5kl"
      },
      "source": [
        "##Breaking Down The Neural Network!\n",
        "\n",
        "how a neural network works and what it does.\n",
        "\n",
        "![alt text](http://www.extremetech.com/wp-content/uploads/2015/07/NeuralNetwork.png)\n",
        "*Figure 1*\n",
        "\n",
        "\n"
      ]
    },
    {
      "cell_type": "markdown",
      "metadata": {
        "id": "-9hd-R1ulSdp"
      },
      "source": [
        "###Data\n",
        "The type of data a neural network processes varies drastically based on the problem being solved. When we build a neural network, we define what shape and kind of data it can accept. It may sometimes be neccessary to modify our dataset so that it can be passed to our neural network. \n",
        "\n",
        "Some common types of data a neural network uses are listed below.\n",
        "- Vector Data (2D)\n",
        "- Timeseries or Sequence (3D)\n",
        "- Image Data (4D)\n",
        "- Video Data (5D)\n",
        "\n",
        "There are of course many different types or data, but these are the main categories.\n",
        "\n"
      ]
    },
    {
      "cell_type": "markdown",
      "metadata": {
        "id": "Xyxxs7oMlWtz"
      },
      "source": [
        "###Layers\n",
        "As we mentioned earlier each neural network consists of multiple layers. At each layer a different transformation of data occurs. Our initial input data is fed through the layers and eventually arrives at the output layer where we will obtain the result.\n",
        "####Input Layer\n",
        "The input layer is the layer that our initial data is passed to. It is the first layer in our neural network.\n",
        "####Output Layer\n",
        "The output layer is the layer that we will retrive our results from. Once the data has passed through all other layers it will arrive here.\n",
        "####Hidden Layer(s)\n",
        "All the other layers in our neural network are called \"hidden layers\". This is because they are hidden to us, we cannot observe them. Most neural networks consist of at least one hidden layer but can have an unlimited amount. Typically, the more complex the model the more hidden layers.\n",
        "####Neurons\n",
        "Each layer is made up of what are called neurons. Neurons have a few different properties that we will discuss later. The important aspect to understand now is that each neuron is responsible for generating/holding/passing ONE numeric value. \n",
        "\n",
        "This means that in the case of our input layer it will have as many neurons as we have input information. For example, say we want to pass an image that is 28x28 pixels, thats 784 pixels. We would need 784 neurons in our input layer to capture each of these pixels. \n",
        "\n",
        "This also means that our output layer will have as many neurons as we have output information. The output is a little more complicated to understand so I'll refrain from an example right now but hopefully you're getting the idea.\n",
        "\n",
        "But what about our hidden layers? Well these have as many neurons as we decide. We'll discuss how we can pick these values later but understand a hidden layer can have any number of neurons.\n",
        "####Connected Layers\n",
        "So how are all these layers connected? Well the neurons in one layer will be connected to neurons in the subsequent layer. However, the neurons can be connected in a variety of different ways. \n",
        "\n",
        "Take for example *Figure 1* (look above). Each neuron in one layer is connected to every neuron in the next layer. This is called a **Fully Connected or dense** layer. There are many other ways of connecting layers but well discuss those as we see them. \n",
        "\n"
      ]
    },
    {
      "cell_type": "markdown",
      "metadata": {
        "id": "a_bM6nQ-PZBY"
      },
      "source": [
        "###Weights\n",
        "Weights are associated with each connection in our neural network. Every pair of connected nodes will have one weight that denotes the strength of the connection between them. These are vital to the inner workings of a neural network and will be tweaked as the neural network is trained. The model will try to determine what these weights should be to achieve the best result. Weights start out at a constant or random value and will change as the network sees training data."
      ]
    },
    {
      "cell_type": "markdown",
      "metadata": {
        "id": "XwYq9doXeIl-"
      },
      "source": [
        "###Biases\n",
        "Biases are another important part of neural networks and will also be tweaked as the model is trained. A bias is simply a constant value associated with each layer. It can be thought of as an extra neuron that has no connections. The purpose of a bias is to shift an entire activation function by a constant value. This allows a lot more flexibllity when it comes to choosing an activation and training the network. There is one bias for each layer."
      ]
    },
    {
      "cell_type": "markdown",
      "metadata": {
        "id": "F92rhvd6PcRI"
      },
      "source": [
        "###Activation Function\n",
        "Activation functions are simply a function that is applied to the weighed sum of a neuron. They can be anything we want but are typically higher order/degree functions that aim to add a higher dimension to our data. We would want to do this to introduce more comolexity to our model. By transforming our data to a higher dimension, we can typically make better, more complex predictions.\n",
        "\n",
        "A list of some common activation functions and their graphs can be seen below.\n",
        "\n",
        "- Relu (Rectified Linear Unit)\n",
        "\n",
        "![alt text](https://yashuseth.files.wordpress.com/2018/02/relu-function.png?w=309&h=274)\n",
        "- Tanh (Hyperbolic Tangent)\n",
        "\n",
        "![alt text](http://mathworld.wolfram.com/images/interactive/TanhReal.gif)\n",
        "- Sigmoid \n",
        "\n",
        "![alt text](https://miro.medium.com/max/970/1*Xu7B5y9gp0iL5ooBj7LtWw.png)\n",
        "\n"
      ]
    },
    {
      "cell_type": "markdown",
      "metadata": {
        "id": "Q2xNjpctlBUM"
      },
      "source": [
        "###Backpropagation\n",
        "Backpropagation is the fundemental algorithm behind training neural networks. It is what changes the weights and biases of our network. To fully explain this process, we need to start by discussing something called a cost/loss function.\n",
        "\n",
        "####Loss/Cost Function\n",
        "As we now know our neural network feeds information through the layers until it eventually reaches an output layer. This layer contains the results that we look at to determine the prediciton from our network. In the training phase it is likely that our network will make many mistakes and poor predicitions. In fact, at the start of training our network doesn't know anything (it has random weights and biases)! \n",
        "\n",
        "We need some way of evaluating if the network is doing well and how well it is doing. For our training data we have the features (input) and the labels (expected output), because of this we can compare the output from our network to the expected output. Based on the difference between these values we can determine if our network has done a good job or poor job. If the network has done a good job, we'll make minor changes to the weights and biases. If it has done a poor job our changes may be more drastic.\n",
        "\n",
        "So, this is where the cost/loss function comes in. This function is responsible for determining how well the network did. We pass it the output and the expected output, and it returns to us some value representing the cost/loss of the network. This effectively makes the networks job to optimize this cost function, trying to make it as low as possible. \n",
        "\n",
        "Some common loss/cost functions include.\n",
        "- Mean Squared Error\n",
        "- Mean Absolute Error\n",
        "- Hinge Loss\n",
        "\n",
        "####Gradient Descent\n",
        "Gradient descent and backpropagation are closely related. Gradient descent is the algorithm used to find the optimal paramaters (weights and biases) for our network, while backpropagation is the process of calculating the gradient that is used in the gradient descent step. \n",
        "\n",
        "Gradient descent requires some pretty advanced calculus and linear algebra to understand so we'll stay away from that for now. Let's just read the formal definition for now.\n",
        "\n",
        "\"Gradient descent is an optimization algorithm used to minimize some function by iteratively moving in the direction of steepest descent as defined by the negative of the gradient. In machine learning, we use gradient descent to update the parameters of our model.\" (https://ml-cheatsheet.readthedocs.io/en/latest/gradient_descent.html)\n",
        "\n",
        "And that's all we really need to know for now. I'll direct you to the video for a more in depth explination.\n",
        "\n",
        "![alt text](https://cdn-images-1.medium.com/max/1000/1*iU1QCnSTKrDjIPjSAENLuQ.png)\n",
        "\n"
      ]
    },
    {
      "cell_type": "markdown",
      "metadata": {
        "id": "0KiTMDCKlBI7"
      },
      "source": [
        "###Optimizer\n",
        "You may sometimes see the term optimizer or optimization function. This is simply the function that implements the backpropagation algorithm described above. Here's a list of a few common ones.\n",
        "- Gradient Descent\n",
        "- Stochastic Gradient Descent\n",
        "- Mini-Batch Gradient Descent\n",
        "- Momentum\n",
        "- Nesterov Accelerated Gradient\n",
        "\n",
        "\n",
        "(https://medium.com/@sdoshi579/optimizers-for-training-neural-network-59450d71caf6)"
      ]
    },
    {
      "cell_type": "markdown",
      "metadata": {
        "id": "Kc5hFCLSiDNr"
      },
      "source": [
        "# Creating a Neural Network for classification task\n",
        "\n",
        "https://www.tensorflow.org/tutorials/keras/classification\n"
      ]
    },
    {
      "cell_type": "markdown",
      "metadata": {
        "id": "3io6gbUrjOQY"
      },
      "source": [
        "# Imports and settings"
      ]
    },
    {
      "cell_type": "code",
      "metadata": {
        "id": "URlrgll0zd3f"
      },
      "source": [
        "%tensorflow_version 2.x\n",
        "import tensorflow as tf\n",
        "from tensorflow import keras\n",
        "import numpy as np\n",
        "import matplotlib.pyplot as plt\n"
      ],
      "execution_count": 1,
      "outputs": []
    },
    {
      "cell_type": "markdown",
      "metadata": {
        "id": "bokNIl_6z9X4"
      },
      "source": [
        "# MNIST Fashion Dataset\n",
        "\n",
        "- Dataset includes 60,000 images for training and 10,000 images for validation/testing."
      ]
    },
    {
      "cell_type": "code",
      "metadata": {
        "colab": {
          "base_uri": "https://localhost:8080/"
        },
        "id": "yi9t130UzeBq",
        "outputId": "1583768f-ba71-4ca5-ea04-4791c4f263c6"
      },
      "source": [
        "# loading dataset\n",
        "\n",
        "fmnist_dataset = keras.datasets.fashion_mnist\n",
        "\n",
        "\n",
        "\n",
        "# create tuples to split dataset and load them(with load_data()) into training and testing - we have X/features--> images, Y/labes --> images labels into text\n",
        "\n",
        "(train_images, train_labels), (test_images, test_labels) = fmnist_dataset.load_data()"
      ],
      "execution_count": 2,
      "outputs": [
        {
          "output_type": "stream",
          "name": "stdout",
          "text": [
            "Downloading data from https://storage.googleapis.com/tensorflow/tf-keras-datasets/train-labels-idx1-ubyte.gz\n",
            "32768/29515 [=================================] - 0s 0us/step\n",
            "40960/29515 [=========================================] - 0s 0us/step\n",
            "Downloading data from https://storage.googleapis.com/tensorflow/tf-keras-datasets/train-images-idx3-ubyte.gz\n",
            "26427392/26421880 [==============================] - 0s 0us/step\n",
            "26435584/26421880 [==============================] - 0s 0us/step\n",
            "Downloading data from https://storage.googleapis.com/tensorflow/tf-keras-datasets/t10k-labels-idx1-ubyte.gz\n",
            "16384/5148 [===============================================================================================] - 0s 0us/step\n",
            "Downloading data from https://storage.googleapis.com/tensorflow/tf-keras-datasets/t10k-images-idx3-ubyte.gz\n",
            "4423680/4422102 [==============================] - 0s 0us/step\n",
            "4431872/4422102 [==============================] - 0s 0us/step\n"
          ]
        }
      ]
    },
    {
      "cell_type": "markdown",
      "metadata": {
        "id": "W5SUsSaw3dJv"
      },
      "source": [
        "### Dataset Analysis"
      ]
    },
    {
      "cell_type": "code",
      "metadata": {
        "colab": {
          "base_uri": "https://localhost:8080/"
        },
        "id": "gBI9Ni9uzeCW",
        "outputId": "baaf0882-e105-4e62-c04d-a14ac428c6b3"
      },
      "source": [
        "# shape\n",
        "train_images.shape \n",
        "\n",
        "# (60000, 28, 28) --> each image  shape is 28x28 and we have 60000 images like this with this shape  "
      ],
      "execution_count": 3,
      "outputs": [
        {
          "output_type": "execute_result",
          "data": {
            "text/plain": [
              "(60000, 28, 28)"
            ]
          },
          "metadata": {},
          "execution_count": 3
        }
      ]
    },
    {
      "cell_type": "code",
      "metadata": {
        "id": "giYbO0zQzeHO",
        "colab": {
          "base_uri": "https://localhost:8080/"
        },
        "outputId": "a6cf16a8-100a-489f-cbd5-394026509aca"
      },
      "source": [
        "print(train_labels.shape) # (60000,) --> 1d --> 1 label for each 28x28 image--60000 total labels\n",
        "\n",
        "print(test_images.shape)\n",
        "print(test_labels.shape)\n"
      ],
      "execution_count": 4,
      "outputs": [
        {
          "output_type": "stream",
          "name": "stdout",
          "text": [
            "(60000,)\n",
            "(10000, 28, 28)\n",
            "(10000,)\n"
          ]
        }
      ]
    },
    {
      "cell_type": "code",
      "metadata": {
        "id": "aeuGi25bzeH-",
        "colab": {
          "base_uri": "https://localhost:8080/"
        },
        "outputId": "b0cccb0b-63a4-4780-a323-e8e2c81ca62c"
      },
      "source": [
        "# access pixel value of: image 0 , 23row and 25 column\n",
        "train_images[0, 23, 25]"
      ],
      "execution_count": 5,
      "outputs": [
        {
          "output_type": "execute_result",
          "data": {
            "text/plain": [
              "216"
            ]
          },
          "metadata": {},
          "execution_count": 5
        }
      ]
    },
    {
      "cell_type": "code",
      "metadata": {
        "id": "gq181OeZzeMk",
        "colab": {
          "base_uri": "https://localhost:8080/"
        },
        "outputId": "955e91cb-ef49-460e-aa01-79c47e0e3750"
      },
      "source": [
        "# check first 10 training labels/class\n",
        "train_labels[0:10]"
      ],
      "execution_count": 6,
      "outputs": [
        {
          "output_type": "execute_result",
          "data": {
            "text/plain": [
              "array([9, 0, 0, 3, 0, 2, 7, 2, 5, 5], dtype=uint8)"
            ]
          },
          "metadata": {},
          "execution_count": 6
        }
      ]
    },
    {
      "cell_type": "code",
      "metadata": {
        "id": "IFcp1nyzzeNT"
      },
      "source": [
        "labels_name = ['T-shirt/top', 'Trouser', 'Pullover', 'Dress', 'Coat',\n",
        "               'Sandal', 'Shirt', 'Sneaker', 'Bag', 'Ankle boot']\n",
        "\n"
      ],
      "execution_count": 7,
      "outputs": []
    },
    {
      "cell_type": "code",
      "metadata": {
        "id": "x8wTjdBSzeR-",
        "colab": {
          "base_uri": "https://localhost:8080/",
          "height": 265
        },
        "outputId": "2525d266-002f-47cb-afdd-1361ffa2d956"
      },
      "source": [
        "plt.figure()\n",
        "plt.imshow(train_images[1]) # show image1\n",
        "plt.colorbar()\n",
        "plt.show()"
      ],
      "execution_count": 8,
      "outputs": [
        {
          "output_type": "display_data",
          "data": {
            "image/png": "[encoded data removed]",
            "text/plain": [
              "<Figure size 432x288 with 2 Axes>"
            ]
          },
          "metadata": {
            "needs_background": "light"
          }
        }
      ]
    },
    {
      "cell_type": "code",
      "metadata": {
        "colab": {
          "base_uri": "https://localhost:8080/",
          "height": 282
        },
        "id": "mYmKWIcgG9oz",
        "outputId": "2292df7c-f3a9-400e-b304-c0c85331dc55"
      },
      "source": [
        "\n",
        "plt.imshow(train_images[11]) # show image11 -- it is a heel\n"
      ],
      "execution_count": 9,
      "outputs": [
        {
          "output_type": "execute_result",
          "data": {
            "text/plain": [
              "<matplotlib.image.AxesImage at 0x7f0a01bf9450>"
            ]
          },
          "metadata": {},
          "execution_count": 9
        },
        {
          "output_type": "display_data",
          "data": {
            "image/png": "[encoded data removed]",
            "text/plain": [
              "<Figure size 432x288 with 1 Axes>"
            ]
          },
          "metadata": {
            "needs_background": "light"
          }
        }
      ]
    },
    {
      "cell_type": "code",
      "metadata": {
        "id": "MLEAHSALzeSw",
        "colab": {
          "base_uri": "https://localhost:8080/",
          "height": 282
        },
        "outputId": "7968b1bf-40a4-4707-d9f2-173f21129ec6"
      },
      "source": [
        "plt.imshow(train_images[20]) # show image20 -- a dress\n"
      ],
      "execution_count": 10,
      "outputs": [
        {
          "output_type": "execute_result",
          "data": {
            "text/plain": [
              "<matplotlib.image.AxesImage at 0x7f0a01b61e10>"
            ]
          },
          "metadata": {},
          "execution_count": 10
        },
        {
          "output_type": "display_data",
          "data": {
            "image/png": "[encoded data removed]",
            "text/plain": [
              "<Figure size 432x288 with 1 Axes>"
            ]
          },
          "metadata": {
            "needs_background": "light"
          }
        }
      ]
    },
    {
      "cell_type": "markdown",
      "metadata": {
        "id": "TDZ33ylZHeQh"
      },
      "source": [
        "# Data Pre-processing\n",
        "\n",
        "\n",
        "Change grey scale pixel value from 0 to 255 to 0 to 1:\n",
        "- simply scale all greyscale pixel values (0-255) to be between 0 and 1. it can be done by dividing each value in the training and testing sets by 255.0\n",
        "- Do this because smaller values will make it easier for the model to process our values, as random weight(W) and biases(B) dafult values are between 0 and 1 and it would be easier for model to update the W and B if image pixels values are between 0 and 1 \n"
      ]
    },
    {
      "cell_type": "code",
      "metadata": {
        "id": "WJdlFxsJzeXZ"
      },
      "source": [
        "train_images = train_images/255.0\n",
        "test_images = test_images/255.0"
      ],
      "execution_count": 11,
      "outputs": []
    },
    {
      "cell_type": "markdown",
      "metadata": {
        "id": "PXgVUw-nITrh"
      },
      "source": [
        "# Model create\n",
        "\n",
        "Use a keras sequential model with three different layers. This model represents a feed-forward neural network"
      ]
    },
    {
      "cell_type": "code",
      "metadata": {
        "id": "6HvboBfaHcDR"
      },
      "source": [
        "model = keras.Sequential([\n",
        "                          keras.layers.Flatten(input_shape= (28,28)), # layer 1: input layer --> only this layer provided ad flat Image\n",
        "                          keras.layers.Dense(128, activation='relu'), # layer2: hidden layer\n",
        "                          keras.layers.Dense(10, activation='softmax') # layer3: output layer, uses softmax activation as this output layer gives probability of the classes\n",
        " \n",
        "                          ])"
      ],
      "execution_count": 12,
      "outputs": []
    },
    {
      "cell_type": "markdown",
      "metadata": {
        "id": "am71QzRkkTzR"
      },
      "source": [
        "**Layer 1:** Input layer and it will conist of 784 neurons. We use the flatten layer with an input shape of (28,28) to denote that our input should come in in that shape. The flatten means that our layer will reshape the shape (28,28) array into a vector of 784 neurons so that each pixel will be associated with one neuron.\n",
        "\n",
        "**Layer 2:** This is our first and only hidden layer. The *dense* denotes that this layer will be *fully connected* and each neuron from the previous layer connects to each neuron of this layer. It has 128 neurons and uses the rectify linear unit activation function.\n",
        "\n",
        "**Layer 3:** This is our output later and is also a dense layer. It has 10 neurons that we will look at to determine our models output. Each neuron represnts the probabillity of a given image being one of the 10 different classes. The activation function *softmax* is used on this layer to calculate a probabillity distribution for each class. This means the value of any neuron in this layer will be between 0 and 1, where 1 represents a high probabillity of the image being that class."
      ]
    },
    {
      "cell_type": "markdown",
      "metadata": {
        "id": "G4X9cU3fknwn"
      },
      "source": [
        "###Compile the Model\n",
        "The last step in building the model is to define the loss function, optimizer and metrics we would like to track. "
      ]
    },
    {
      "cell_type": "code",
      "metadata": {
        "id": "KefkVVb1HcEM"
      },
      "source": [
        "model.compile(\n",
        "    optimizer='adam', \n",
        "    loss='sparse_categorical_crossentropy', \n",
        "    metrics=['accuracy'])\n",
        "\n",
        "\n"
      ],
      "execution_count": 13,
      "outputs": []
    },
    {
      "cell_type": "markdown",
      "metadata": {
        "id": "NgXvul0rlBno"
      },
      "source": [
        "# Train model\n",
        "- fit model on training data"
      ]
    },
    {
      "cell_type": "code",
      "metadata": {
        "colab": {
          "base_uri": "https://localhost:8080/"
        },
        "id": "YHR_7DlkHcIq",
        "outputId": "3b53f950-dae9-49c8-d374-dbfc7321e7f1"
      },
      "source": [
        "\n",
        "model.fit(train_images, train_labels, epochs= 5, batch_size=50) # default batch_size = 32 images, so 60000/32 = 1875 batches -- so at once insted of passing 1 images at once, it will pass 32 images at once/batch\n"
      ],
      "execution_count": 18,
      "outputs": [
        {
          "output_type": "stream",
          "name": "stdout",
          "text": [
            "Epoch 1/5\n",
            "1200/1200 [==============================] - 4s 3ms/step - loss: 0.1386 - accuracy: 0.9484\n",
            "Epoch 2/5\n",
            "1200/1200 [==============================] - 3s 3ms/step - loss: 0.1356 - accuracy: 0.9495\n",
            "Epoch 3/5\n",
            "1200/1200 [==============================] - 3s 3ms/step - loss: 0.1333 - accuracy: 0.9498\n",
            "Epoch 4/5\n",
            "1200/1200 [==============================] - 3s 3ms/step - loss: 0.1309 - accuracy: 0.9508\n",
            "Epoch 5/5\n",
            "1200/1200 [==============================] - 3s 3ms/step - loss: 0.1285 - accuracy: 0.9516\n"
          ]
        },
        {
          "output_type": "execute_result",
          "data": {
            "text/plain": [
              "<keras.callbacks.History at 0x7f09fe094450>"
            ]
          },
          "metadata": {},
          "execution_count": 18
        }
      ]
    },
    {
      "cell_type": "markdown",
      "metadata": {
        "id": "iQ-w5zunLKRg"
      },
      "source": [
        "from model training, we are getting 90% Accuracy, model is overfitting becasue we gave epoch = 10 and model is seeing same data 10 times so it starts to memorise every image, paramters and overfit. when overfit while training, in testing we will get lower accuracy\n",
        "\n",
        "\n",
        "so better to take generlise epoch number (not too high , not too low)\n",
        "\n",
        "\n",
        "\n",
        "# Test/Evaluate Model\n",
        "\n",
        "\n",
        "The verbose argument is defined from the keras documentation as: \"verbose: 0 or 1. Verbosity mode. 0 = silent, 1 = progress bar.\" (https://keras.io/models/sequential/)"
      ]
    },
    {
      "cell_type": "code",
      "metadata": {
        "colab": {
          "base_uri": "https://localhost:8080/"
        },
        "id": "breXqdlnk6fF",
        "outputId": "9d01a033-3779-4cd3-de03-f8b21ce2fcc9"
      },
      "source": [
        "test_loss , test_accuracy = model.evaluate(test_images, test_labels, verbose=1) # default batch = 313\n",
        "# print('Loss', test_loss)\n",
        "print('Test Accuracy', test_accuracy)\n",
        "\n",
        "\n",
        "\n",
        "## 88% accuracy is not that good when model is giving 94% accuracy while training with epoch = 20-- try to take less epoch while training \n",
        "## now 89% acc while epoch = 5 at training "
      ],
      "execution_count": 19,
      "outputs": [
        {
          "output_type": "stream",
          "name": "stdout",
          "text": [
            "313/313 [==============================] - 1s 2ms/step - loss: 0.3864 - accuracy: 0.8931\n",
            "Test Accuracy 0.8931000232696533\n"
          ]
        }
      ]
    },
    {
      "cell_type": "markdown",
      "metadata": {
        "id": "SOxOdpMGec6J"
      },
      "source": [
        "# Model Prediction\n",
        "\n",
        "To make predictions we simply need to pass an array of data(test_images, do not pass test_labels) in the form we've specified in the input layer to ```.predict()``` method."
      ]
    },
    {
      "cell_type": "code",
      "metadata": {
        "id": "rmrKTa8-HcJn"
      },
      "source": [
        "prediction = model.predict(test_images)\n",
        "\n",
        "# This method returns an array of 10 predictions for each image we passed it. --> so each image will have 10 prediciton, higher probability means image belong to that class out of 10 class\n",
        "\n",
        "\n",
        "# if want to predict just for one image\n",
        "# prediction = model.predict([test_images[0]])\n"
      ],
      "execution_count": 20,
      "outputs": []
    },
    {
      "cell_type": "code",
      "metadata": {
        "colab": {
          "base_uri": "https://localhost:8080/"
        },
        "id": "poMu8455HcO6",
        "outputId": "5fe53f32-23ff-453f-b433-0f4091a23115"
      },
      "source": [
        "print(prediction)"
      ],
      "execution_count": 21,
      "outputs": [
        {
          "output_type": "stream",
          "name": "stdout",
          "text": [
            "[[1.02790682e-12 9.16027834e-18 7.43090589e-11 ... 1.05995906e-03\n",
            "  1.96494860e-12 9.98940051e-01]\n",
            " [3.92732909e-04 3.05832278e-15 9.98719215e-01 ... 1.23156925e-32\n",
            "  5.48147154e-16 6.55207437e-19]\n",
            " [3.81692155e-13 1.00000000e+00 6.96317802e-22 ... 4.10604436e-23\n",
            "  3.88897407e-25 3.20012674e-27]\n",
            " ...\n",
            " [1.76291390e-08 1.62006976e-22 1.26529883e-07 ... 4.96411912e-10\n",
            "  9.99768555e-01 1.39485612e-23]\n",
            " [2.01192890e-13 1.00000000e+00 3.69401853e-19 ... 1.11960378e-25\n",
            "  1.35077530e-14 1.25543683e-19]\n",
            " [1.34512703e-08 1.15217514e-12 2.42518968e-06 ... 2.19335663e-03\n",
            "  3.73135413e-06 5.67180836e-09]]\n"
          ]
        }
      ]
    },
    {
      "cell_type": "code",
      "metadata": {
        "colab": {
          "base_uri": "https://localhost:8080/"
        },
        "id": "pPl4tjbVHcP0",
        "outputId": "be6609d0-1085-492d-9c84-7e3047f83986"
      },
      "source": [
        "# Let's have a look at the predictions for image 1\n",
        "\n",
        "print((prediction[0]))\n",
        "\n",
        "# [1.0279068e-12 9.1602783e-18 7.4309059e-11 1.2735178e-15 6.7822775e-10\n",
        "# 3.8430692e-08 2.7693325e-11 1.0599591e-03 1.9649486e-12 9.9894005e-01]\n",
        "# 10th probabiloty is highest --> image1 belong to 10th class --> Ankle boot\n",
        "\n"
      ],
      "execution_count": 22,
      "outputs": [
        {
          "output_type": "stream",
          "name": "stdout",
          "text": [
            "[1.0279068e-12 9.1602783e-18 7.4309059e-11 1.2735178e-15 6.7822775e-10\n",
            " 3.8430692e-08 2.7693325e-11 1.0599591e-03 1.9649486e-12 9.9894005e-01]\n"
          ]
        }
      ]
    },
    {
      "cell_type": "code",
      "metadata": {
        "colab": {
          "base_uri": "https://localhost:8080/",
          "height": 282
        },
        "id": "oOArXC-GHcUS",
        "outputId": "6a50a735-57ea-487e-873b-00792ea7a539"
      },
      "source": [
        "# just to prove if model prediciton is right or not: check what is test_image 1 is\n",
        "\n",
        "print(labels_name) # 10th class is : Ankle boot\n",
        "plt.imshow(test_images[0]) # for test image1 # Ankle boot\n",
        "\n",
        "\n",
        "## so test_image1 is Ankle boot and model prediciton is also Ankle boot so model prediciton is correct "
      ],
      "execution_count": 23,
      "outputs": [
        {
          "output_type": "execute_result",
          "data": {
            "text/plain": [
              "<matplotlib.image.AxesImage at 0x7f09f687d250>"
            ]
          },
          "metadata": {},
          "execution_count": 23
        },
        {
          "output_type": "display_data",
          "data": {
            "image/png": "[encoded data removed]",
            "text/plain": [
              "<Figure size 432x288 with 1 Axes>"
            ]
          },
          "metadata": {
            "needs_background": "light"
          }
        }
      ]
    },
    {
      "cell_type": "code",
      "metadata": {
        "colab": {
          "base_uri": "https://localhost:8080/",
          "height": 369
        },
        "id": "UupKWcDQHcVN",
        "outputId": "245d7e5d-d660-4803-8d66-06a62be82871"
      },
      "source": [
        "## check some other prediction examples:\n",
        "# find higher prob of prediction -- with np.argmax()\n",
        "print(np.argmax(prediction[876])) # class 10 \n",
        "\n",
        "# print it with label name\n",
        "print(labels_name[np.argmax(prediction[876])])\n",
        "\n",
        "plt.imshow(test_images[876])"
      ],
      "execution_count": 31,
      "outputs": [
        {
          "output_type": "stream",
          "name": "stdout",
          "text": [
            "[4.58927248e-19 5.81735445e-29 4.60925394e-20 1.97257813e-28\n",
            " 1.25039676e-23 9.10916371e-17 4.11954904e-17 6.81375956e-10\n",
            " 5.33380223e-23 1.00000000e+00]\n",
            "9\n",
            "Ankle boot\n"
          ]
        },
        {
          "output_type": "execute_result",
          "data": {
            "text/plain": [
              "<matplotlib.image.AxesImage at 0x7f09f64799d0>"
            ]
          },
          "metadata": {},
          "execution_count": 31
        },
        {
          "output_type": "display_data",
          "data": {
            "image/png": "[encoded data removed]",
            "text/plain": [
              "<Figure size 432x288 with 1 Axes>"
            ]
          },
          "metadata": {
            "needs_background": "light"
          }
        }
      ]
    },
    {
      "cell_type": "code",
      "metadata": {
        "colab": {
          "base_uri": "https://localhost:8080/",
          "height": 300
        },
        "id": "RFt7eevOHcab",
        "outputId": "6ade7d52-0c8f-48c2-f7a1-12c30f58883d"
      },
      "source": [
        "print(labels_name[np.argmax(prediction[4])])\n",
        "plt.imshow(test_images[4])"
      ],
      "execution_count": 33,
      "outputs": [
        {
          "output_type": "stream",
          "name": "stdout",
          "text": [
            "Shirt\n"
          ]
        },
        {
          "output_type": "execute_result",
          "data": {
            "text/plain": [
              "<matplotlib.image.AxesImage at 0x7f09f63e7f50>"
            ]
          },
          "metadata": {},
          "execution_count": 33
        },
        {
          "output_type": "display_data",
          "data": {
            "image/png": "[encoded data removed]",
            "text/plain": [
              "<Figure size 432x288 with 1 Axes>"
            ]
          },
          "metadata": {
            "needs_background": "light"
          }
        }
      ]
    },
    {
      "cell_type": "markdown",
      "metadata": {
        "id": "03lVbPhXmdcl"
      },
      "source": [
        "# Verifying prediction"
      ]
    },
    {
      "cell_type": "code",
      "metadata": {
        "colab": {
          "base_uri": "https://localhost:8080/",
          "height": 312
        },
        "id": "uqtffSHRHcbX",
        "outputId": "da9e3679-8e89-4bc8-ce8c-9a33e2e06a21"
      },
      "source": [
        "COLOR = 'red'\n",
        "plt.rcParams['text.color'] = COLOR \n",
        "plt.rcParams['axes.labelcolor'] = COLOR \n",
        "\n",
        "# prediction\n",
        "def predict(model, images, correct_label):\n",
        "  \n",
        "  # correct label name\n",
        "  label_name = ['T-shirt/top', 'Trouser', 'Pullover', 'Dress', 'Coat',\n",
        "               'Sandal', 'Shirt', 'Sneaker', 'Bag', 'Ankle boot']\n",
        "\n",
        "  # model predict\n",
        "  prediction = model.predict(np.array([image])) # image number passed by user\n",
        "  predict_class = label_name[np.argmax(prediction)]\n",
        "\n",
        "\n",
        "  # show image\n",
        "  show_image(image, label_name[correct_label], predict_class)\n",
        "\n",
        "\n",
        "def show_image(img, label, guess):\n",
        "  plt.imshow(img) # plt.imshow(img, cmap=plt.cm.binary)\n",
        "  plt.title(\"Excpected: \" + label)\n",
        "  plt.xlabel(\"Guess: \" + guess)\n",
        "  plt.colorbar()\n",
        "\n",
        "\n",
        "\n",
        "\n",
        "def get_user_input():\n",
        "  while True:\n",
        "    num = input(\"Pick a number: \")\n",
        "    if num.isdigit():\n",
        "      num = int(num)\n",
        "      if 0 <= num <= 1000:\n",
        "        return int(num)\n",
        "    else:\n",
        "      print(\"Try again...\")\n",
        "\n",
        "num = get_user_input()\n",
        "image = test_images[num]\n",
        "label = test_labels[num]\n",
        "predict(model, image, label)\n",
        "  \n",
        "\n",
        "\n"
      ],
      "execution_count": 39,
      "outputs": [
        {
          "name": "stdout",
          "output_type": "stream",
          "text": [
            "Pick a number: 654\n"
          ]
        },
        {
          "output_type": "display_data",
          "data": {
            "image/png": "[encoded data removed]",
            "text/plain": [
              "<Figure size 432x288 with 2 Axes>"
            ]
          },
          "metadata": {
            "needs_background": "light"
          }
        }
      ]
    },
    {
      "cell_type": "code",
      "metadata": {
        "id": "X8-1oSdkHcg4"
      },
      "source": [
        ""
      ],
      "execution_count": 15,
      "outputs": []
    },
    {
      "cell_type": "code",
      "metadata": {
        "id": "VuECxnQhHcnt"
      },
      "source": [
        ""
      ],
      "execution_count": 15,
      "outputs": []
    },
    {
      "cell_type": "code",
      "metadata": {
        "id": "k7yn9e_THcor"
      },
      "source": [
        ""
      ],
      "execution_count": 15,
      "outputs": []
    }
  ]
}